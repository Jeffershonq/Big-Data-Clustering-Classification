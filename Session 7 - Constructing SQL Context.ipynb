{
 "cells": [
  {
   "cell_type": "code",
   "execution_count": 9,
   "metadata": {},
   "outputs": [],
   "source": [
    "# Import all required modules\n",
    "\n",
    "from pyspark.sql import SparkSession\n",
    "\n",
    "spark = SparkSession.builder.getOrCreate()"
   ]
  },
  {
   "cell_type": "code",
   "execution_count": null,
   "metadata": {},
   "outputs": [],
   "source": [
    "# Create RDD (Resilient Distributed Dataset)\n",
    "\n",
    "MsBrand = spark.read.option(\"inferSchema\", \"true\").csv(\"MsBrand.csv\", header=True)\n",
    "MsRamen = spark.read.option(\"inferSchema\", \"true\").csv(\"MsRamen.csv\", header=True)\n",
    "MsCountry = spark.read.option(\"inferSchema\", \"true\").csv(\"MsCountry.csv\", header=True)\n",
    "MsRamenStyle = spark.read.option(\"inferSchema\", \"true\").csv(\"MsRamenStyle.csv\", header=True)"
   ]
  },
  {
   "cell_type": "code",
   "execution_count": null,
   "metadata": {},
   "outputs": [],
   "source": [
    "# Halo mau di show RDD (SELECT *)\n",
    "\n",
    "MsBrand.show()\n",
    "MsRamen.show()\n",
    "MsCountry.show()\n",
    "MsRamenStyle.show()\n",
    "\n",
    "# Parameter 1 = top n row\n",
    "# Parameter 2 = truncate\n",
    "\n",
    "MsBrand.show(10, True)"
   ]
  },
  {
   "cell_type": "code",
   "execution_count": null,
   "metadata": {},
   "outputs": [],
   "source": [
    "# Select specific column with filtering condition (Query Builder)\n",
    "\n",
    "MsRamen.select(\"RamenId\", \"RamenName\", \"RamenPrice\").join().filter().show()\n",
    "\n",
    "#.show() parameter can be called quantity\n",
    "MsRamen.select(\"RamenId\", \"RamenName\", \"RamenPrice\").show(5)\n",
    "\n",
    "# .join() JOIN TABLE\n",
    "MsRamen.join(MsRamenStyle, MsRamenStyle.RamenStyleId == MsRamen.RamenStyleId).select(\"RamenId\", \"RamenName\", \"RamenPrice\", \"RamenStyleName\").filter(MsRamenStyle.RamenStyleName == 'Cup').show()\n",
    "\n",
    "# .filter() WHERE()\n",
    "MsRamen\n",
    ".select(\"RamenId\", \"RamenName\", \"RamenPrice\")\n",
    ".filter(MsRamen[\"RamenName\"].startswith(\"Noodles\"))\n",
    ".show()\n",
    "\n",
    "# INFO quiz is not necessary have to used the SQL Query Builder\n",
    "\n",
    "# You can use basic QUERY -> SELECT TOP 5 RamenId, RamenName, RamenPrice FROM MsRamen"
   ]
  },
  {
   "cell_type": "code",
   "execution_count": null,
   "metadata": {},
   "outputs": [],
   "source": [
    "# RAW QUERY -> Masuk QUIZ\n",
    "# Temporary Table for easier manipulating SQL like syntax\n",
    "\n",
    "MsRamen.createOrReplaceTempView(\"MsRamen\")\n",
    "MsBrand.createOrReplaceTempView(\"MsBrand\")\n",
    "MsCountry.createOrReplaceTempView(\"MsCountry\")\n",
    "MsRamenStyle.createOrReplaceTempView(\"MsRamenStyle\")\n",
    "\n",
    "# Query:\n",
    "# 1. SELECT all data from MsRamen\n",
    "\n",
    "spark.sql(\"\"\"\n",
    "    SELECT * FROM MsRamen LIMIT 20  \n",
    "\"\"\").show(20)\n",
    "\n",
    "# 2. Display RamenStyleName and average of the ramen price for every even RamenId, Order it by average price DESC and only show 10 first data\n",
    "\n",
    "# Aggregate function = SUM/TOTAL (SUM) , Average (AVG) , Amount/COUNT, MAX. MIN => GROUP BY\n",
    "spark.sql(\"\"\" \n",
    "    SELECT RamenStyleName,\n",
    "    ROUND(AVG(RamenPrice), 2) AS 'AveragePrice'\n",
    "    FROM MsRamen AS mr\n",
    "    JOIN MsRamenStyle mrs ON mr.RamenStyleId = mrs.RamenStyleId\n",
    "    WHERE mr.RamenId % 2 = 0\n",
    "    GROUP BY RamenStyleName\n",
    "    ORDER BY AveragePrice DESC\n",
    "    LIMIT 10\n",
    "\"\"\").show(10)\n",
    "\n",
    "# ROUND = Pembulatan angka dibelakang koma\n",
    "# WHERE locate above GROUP BY and below FROM / JOIN\n",
    "# HAVING is locate below GROUP BY\n",
    "\n",
    "# 3. Get All data of Ramen. IT includes RamenName, RamenPrice, and RamenCategory. RamenCategory is determined by comparing their price:\n",
    "# 0 - 14999 => 'small'\n",
    "# 15000 - 24999 => 'regular'\n",
    "# 25000+ => 'premium', from condition above we need to use CASE WHEN\n",
    "\n",
    "spark.sql(\"\"\"\n",
    "    SELECT RamenName,\n",
    "    RamenPrice,\n",
    "    CASE\n",
    "        -- WHEN [kondisi] THEN [expression/value]\n",
    "        WHEN RamenPrice >= 25000 THEN 'premium'\n",
    "        WHEN RamenPrice >= 15000 THEN 'regular'\n",
    "        ELSE 'small\n",
    "    END AS 'RamenCategory'\n",
    "    FROM MsRamen\n",
    "\"\"\").show(50)"
   ]
  }
 ],
 "metadata": {
  "kernelspec": {
   "display_name": "Python 3",
   "language": "python",
   "name": "python3"
  },
  "language_info": {
   "codemirror_mode": {
    "name": "ipython",
    "version": 3
   },
   "file_extension": ".py",
   "mimetype": "text/x-python",
   "name": "python",
   "nbconvert_exporter": "python",
   "pygments_lexer": "ipython3",
   "version": "3.10.2"
  },
  "orig_nbformat": 4
 },
 "nbformat": 4,
 "nbformat_minor": 2
}

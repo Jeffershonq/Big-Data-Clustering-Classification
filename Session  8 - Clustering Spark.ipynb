{
 "cells": [
  {
   "cell_type": "code",
   "execution_count": 1,
   "metadata": {},
   "outputs": [],
   "source": [
    "# Import required library\n",
    "\n",
    "from pyspark.sql import SparkSession\n",
    "from pyspark.streaming import StreamingContext"
   ]
  },
  {
   "cell_type": "code",
   "execution_count": null,
   "metadata": {},
   "outputs": [],
   "source": [
    "# Making object spark\n",
    "spark = SparkSession.builder.getOrCreate()\n",
    "\n",
    "# Making object streamContext, with the parameter (sparkSession, context, interval)\n",
    "# Interval = Pending\n",
    "streamContext = StreamingContext(spark.sparkContext, 10)\n",
    "\n",
    "# SocketTextStream => Mengambil data berupa text yang dikirimkan\n",
    "dStream = streamContext.socketTextStream('localhost', 9998)"
   ]
  },
  {
   "cell_type": "code",
   "execution_count": null,
   "metadata": {},
   "outputs": [],
   "source": [
    "word = dStream.flatMap(lambda word: word.split(' '))\n",
    "\n",
    "# Show output to console with pprint and its parameter\n",
    "word.pprint(5)\n",
    "\n",
    "# Python split String\n",
    "words = dStream.flatMap(lambda sentence: sentence.split(' '))\n",
    "\n",
    "# Add Condition\n",
    "words =  words.filter(lambda word: word != \"Marchel\")\n",
    "wordContainer = words.map(lambda x: (x, 1))\n",
    "\n",
    "# Do Map Reduce\n",
    "wordFreq = wordContainer.reduceByKey(lambda x, y: x+y)\n",
    "\n",
    "wordFreq.pprint(100)\n",
    "\n",
    "# Terminal\n",
    "# man nc\n",
    "# nc -l 9998 -k\n",
    "# nc -lk 9998\n",
    "# Marchel Marchel halo test "
   ]
  },
  {
   "cell_type": "code",
   "execution_count": null,
   "metadata": {},
   "outputs": [],
   "source": [
    "# Start the streamContext that we have made\n",
    "streamContext.start()\n",
    "\n",
    "# Terminal Cloudera\n",
    "\n",
    "# man nc\n",
    "# nc -l 9998 -l\n",
    "# nc -lk 9998\n",
    "# hansen oh my god\n",
    "\n"
   ]
  }
 ],
 "metadata": {
  "kernelspec": {
   "display_name": "Python 3",
   "language": "python",
   "name": "python3"
  },
  "language_info": {
   "codemirror_mode": {
    "name": "ipython",
    "version": 3
   },
   "file_extension": ".py",
   "mimetype": "text/x-python",
   "name": "python",
   "nbconvert_exporter": "python",
   "pygments_lexer": "ipython3",
   "version": "3.10.2"
  },
  "orig_nbformat": 4
 },
 "nbformat": 4,
 "nbformat_minor": 2
}
